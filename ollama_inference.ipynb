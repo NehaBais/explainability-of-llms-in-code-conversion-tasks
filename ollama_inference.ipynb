{
 "cells": [
  {
   "cell_type": "markdown",
   "metadata": {},
   "source": [
    "# Code Conversion using Ollama Inference Models"
   ]
  },
  {
   "cell_type": "code",
   "execution_count": 1,
   "metadata": {},
   "outputs": [],
   "source": [
    "from itertools import permutations\n",
    "from constants import *\n",
    "\n",
    "import pandas as pd\n",
    "import numpy as np\n",
    "import ollama\n",
    "import os\n",
    "import re"
   ]
  },
  {
   "cell_type": "code",
   "execution_count": 2,
   "metadata": {},
   "outputs": [],
   "source": [
    "RESULTS_FOLDER = \"results\"\n",
    "GENERATED_CODE_FOLDER = os.path.join(RESULTS_FOLDER, \"generated_code\")\n",
    "MODEL = \"codegemma2b\"\n",
    "TASK = \"bit_ops\"\n",
    "LANG2LANG = list(permutations(LANGS.keys(), 2))"
   ]
  },
  {
   "cell_type": "code",
   "execution_count": 3,
   "metadata": {},
   "outputs": [],
   "source": [
    "def get_prompt(system_prompt, user_prompt):\n",
    "    prompt = []\n",
    "    if system_prompt:\n",
    "        prompt.append({\"role\": \"system\", \"content\": system_prompt})\n",
    "    prompt.append({\"role\": \"user\", \"content\": user_prompt})\n",
    "    return prompt"
   ]
  },
  {
   "cell_type": "code",
   "execution_count": 4,
   "metadata": {},
   "outputs": [],
   "source": [
    "prompt = \"Convert the following code from {} to {}. This is the requirement for the code - {}\\n```{}```\\n\"\n",
    "pattern = r\"(?s)```(?:\\w+\\s*)?\\n?(.*?)```\""
   ]
  },
  {
   "cell_type": "code",
   "execution_count": 5,
   "metadata": {},
   "outputs": [
    {
     "data": {
      "text/plain": [
       "{'status': 'success'}"
      ]
     },
     "execution_count": 5,
     "metadata": {},
     "output_type": "execute_result"
    }
   ],
   "source": [
    "ollama.pull(OLLAMA_TAGS[MODEL])"
   ]
  },
  {
   "cell_type": "code",
   "execution_count": 6,
   "metadata": {},
   "outputs": [
    {
     "name": "stdout",
     "output_type": "stream",
     "text": [
      "completed codegemma2b bit_ops C CPP\n",
      "error in codegemma2b bit_ops C GO\n",
      "completed codegemma2b bit_ops C JAVA\n",
      "error in codegemma2b bit_ops C JS\n",
      "error in codegemma2b bit_ops C PY\n",
      "completed codegemma2b bit_ops C RS\n",
      "error in codegemma2b bit_ops CPP C\n",
      "error in codegemma2b bit_ops CPP GO\n",
      "error in codegemma2b bit_ops CPP JAVA\n",
      "error in codegemma2b bit_ops CPP JS\n",
      "error in codegemma2b bit_ops CPP PY\n",
      "error in codegemma2b bit_ops CPP RS\n",
      "completed codegemma2b bit_ops GO C\n",
      "error in codegemma2b bit_ops GO CPP\n",
      "completed codegemma2b bit_ops GO JAVA\n",
      "completed codegemma2b bit_ops GO JS\n",
      "completed codegemma2b bit_ops GO PY\n",
      "error in codegemma2b bit_ops GO RS\n",
      "completed codegemma2b bit_ops JAVA C\n",
      "completed codegemma2b bit_ops JAVA CPP\n",
      "completed codegemma2b bit_ops JAVA GO\n",
      "completed codegemma2b bit_ops JAVA JS\n",
      "completed codegemma2b bit_ops JAVA PY\n",
      "completed codegemma2b bit_ops JAVA RS\n",
      "completed codegemma2b bit_ops JS C\n",
      "completed codegemma2b bit_ops JS CPP\n",
      "completed codegemma2b bit_ops JS GO\n",
      "completed codegemma2b bit_ops JS JAVA\n",
      "completed codegemma2b bit_ops JS PY\n",
      "completed codegemma2b bit_ops JS RS\n",
      "error in codegemma2b bit_ops PY C\n",
      "error in codegemma2b bit_ops PY CPP\n",
      "error in codegemma2b bit_ops PY GO\n",
      "error in codegemma2b bit_ops PY JAVA\n",
      "error in codegemma2b bit_ops PY JS\n",
      "error in codegemma2b bit_ops PY RS\n",
      "error in codegemma2b bit_ops RS C\n",
      "completed codegemma2b bit_ops RS CPP\n",
      "completed codegemma2b bit_ops RS GO\n",
      "completed codegemma2b bit_ops RS JAVA\n",
      "completed codegemma2b bit_ops RS JS\n",
      "completed codegemma2b bit_ops RS PY\n"
     ]
    }
   ],
   "source": [
    "for idx, (lang1, lang2) in enumerate(LANG2LANG):\n",
    "    formatted_prompt = prompt.format(LANGS[lang1], LANGS[lang2], TASK_DESCRIPTION[TASK], REFERENCE_CODE[lang1][TASK])\n",
    "    if OLLAMA_SYSTEM_PROMPT_SUPPORT[MODEL]:\n",
    "        chat_prompt = get_prompt(\"You are a helpful code conversion assistant.\", formatted_prompt)\n",
    "    else:\n",
    "        chat_prompt = get_prompt(None, formatted_prompt)\n",
    "    try:\n",
    "        rsp = ollama.chat(OLLAMA_TAGS[MODEL], messages=chat_prompt, options={\"seed\": 42, \"timeout\": 60})\n",
    "    except:\n",
    "        rsp = ollama.chat(OLLAMA_TAGS[MODEL], messages=chat_prompt, options={\"seed\": 41, \"timeout\": 60})\n",
    "    try:\n",
    "        code = re.findall(pattern, rsp[\"message\"][\"content\"])[0]\n",
    "        with open(os.path.join(GENERATED_CODE_FOLDER, f\"{MODEL}-{TASK}-{lang1.lower()}-{lang2.lower()}.{lang2.lower()}\"), \"w\") as fp:\n",
    "            fp.write(code + \"\\n\")\n",
    "        print(f\"completed {MODEL} {TASK} {lang1} {lang2}\")\n",
    "    except:\n",
    "        print(f\"error in {MODEL} {TASK} {lang1} {lang2}\")\n",
    "        with open(os.path.join(GENERATED_CODE_FOLDER, f\"{MODEL}-{TASK}-{lang1.lower()}-{lang2.lower()}.md\"), \"w\") as fp:\n",
    "            fp.write(rsp[\"message\"][\"content\"] + \"\\n\")"
   ]
  }
 ],
 "metadata": {
  "kernelspec": {
   "display_name": "venv",
   "language": "python",
   "name": "python3"
  },
  "language_info": {
   "codemirror_mode": {
    "name": "ipython",
    "version": 3
   },
   "file_extension": ".py",
   "mimetype": "text/x-python",
   "name": "python",
   "nbconvert_exporter": "python",
   "pygments_lexer": "ipython3",
   "version": "3.12.4"
  }
 },
 "nbformat": 4,
 "nbformat_minor": 2
}
