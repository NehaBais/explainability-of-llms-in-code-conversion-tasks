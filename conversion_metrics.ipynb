{
 "cells": [
  {
   "cell_type": "code",
   "execution_count": 1,
   "metadata": {},
   "outputs": [],
   "source": [
    "from transformers import AutoTokenizer\n",
    "from constants import *\n",
    "import pandas as pd\n",
    "import evaluate\n",
    "import os"
   ]
  },
  {
   "cell_type": "code",
   "execution_count": 2,
   "metadata": {},
   "outputs": [],
   "source": [
    "RESULTS_FOLDER = \"results\"\n",
    "ACCEPTED_CODE_FOLDER = os.path.join(RESULTS_FOLDER, \"accepted_code\")\n",
    "REJECTED_CODE_FOLDER = os.path.join(RESULTS_FOLDER, \"rejected_code\")\n",
    "HF_TOKEN = open(\".token\", \"r\").read().strip()\n",
    "BLEU = evaluate.load(\"bleu\")"
   ]
  },
  {
   "cell_type": "code",
   "execution_count": 3,
   "metadata": {},
   "outputs": [],
   "source": [
    "lines = open(os.path.join(RESULTS_FOLDER, \"compilation_log.txt\"), \"r\").readlines()"
   ]
  },
  {
   "cell_type": "code",
   "execution_count": 4,
   "metadata": {},
   "outputs": [
    {
     "data": {
      "text/plain": [
       "[\"2024-09-06 16:55:50 - Compilation and syntax check failed: deepseekcoder7b-bit_ops-py-c.c: Command '['gcc', '/tmp/deepseekcoder7b-bit_ops-py-c.c', '-o', '/tmp/deepseekcoder7b-bit_ops-py-c.c.out']' returned non-zero exit status 1.\\n\",\n",
       " '2024-09-06 16:55:50 - Compilation successful: codellama7b-int_factors-rs-c.c\\n',\n",
       " \"2024-09-06 16:55:51 - Compilation and syntax check failed: magicoder7b-int_factors-c-cpp.cpp: Command '['g++', '/tmp/magicoder7b-int_factors-c-cpp.cpp', '-o', '/tmp/magicoder7b-int_factors-c-cpp.cpp.out']' returned non-zero exit status 1.\\n\",\n",
       " '2024-09-06 16:55:51 - Compilation successful: codellama7b-int_cmp-cpp-rs.rs\\n',\n",
       " '2024-09-06 16:55:51 - Syntax check successful: codegeex4-bit_ops-py-js.js\\n',\n",
       " '2024-09-06 16:55:51 - Syntax check successful: deepseekcoder7b-bit_ops-c-js.js\\n',\n",
       " \"2024-09-06 16:55:52 - Compilation and syntax check failed: granitecode3b-int_factors-java-cpp.cpp: Command '['g++', '/tmp/granitecode3b-int_factors-java-cpp.cpp', '-o', '/tmp/granitecode3b-int_factors-java-cpp.cpp.out']' returned non-zero exit status 1.\\n\",\n",
       " '2024-09-06 16:55:52 - Syntax check successful: codegeex4-bit_ops-js-py.py\\n',\n",
       " \"2024-09-06 16:55:52 - Compilation and syntax check failed: codegemma7b-int_factors-js-c.c: Command '['gcc', '/tmp/codegemma7b-int_factors-js-c.c', '-o', '/tmp/codegemma7b-int_factors-js-c.c.out']' returned non-zero exit status 1.\\n\",\n",
       " \"2024-09-06 16:55:52 - Compilation and syntax check failed: granitecode3b-int_cmp-py-cpp.cpp: Command '['g++', '/tmp/granitecode3b-int_cmp-py-cpp.cpp', '-o', '/tmp/granitecode3b-int_cmp-py-cpp.cpp.out']' returned non-zero exit status 1.\\n\"]"
      ]
     },
     "execution_count": 4,
     "metadata": {},
     "output_type": "execute_result"
    }
   ],
   "source": [
    "lines[:10]"
   ]
  },
  {
   "cell_type": "code",
   "execution_count": 5,
   "metadata": {},
   "outputs": [],
   "source": [
    "def check_row_exists(df, m, t, fl, tl):\n",
    "    return (\n",
    "        (df[\"model\"] == m)\n",
    "        & (df[\"task\"] == t)\n",
    "        & (df[\"from_lang\"] == fl)\n",
    "        & (df[\"to_lang\"] == tl)\n",
    "    ).any()"
   ]
  },
  {
   "cell_type": "code",
   "execution_count": 6,
   "metadata": {},
   "outputs": [
    {
     "data": {
      "application/vnd.jupyter.widget-view+json": {
       "model_id": "499ef42a9eda4dcea22fb0c1f78d00a6",
       "version_major": 2,
       "version_minor": 0
      },
      "text/plain": [
       "tokenizer_config.json:   0%|          | 0.00/8.92k [00:00<?, ?B/s]"
      ]
     },
     "metadata": {},
     "output_type": "display_data"
    },
    {
     "data": {
      "application/vnd.jupyter.widget-view+json": {
       "model_id": "35cdf19152a94f4eacb27b92031a143c",
       "version_major": 2,
       "version_minor": 0
      },
      "text/plain": [
       "vocab.json:   0%|          | 0.00/777k [00:00<?, ?B/s]"
      ]
     },
     "metadata": {},
     "output_type": "display_data"
    },
    {
     "data": {
      "application/vnd.jupyter.widget-view+json": {
       "model_id": "4675d24e98d54dd5837530ad3d097de6",
       "version_major": 2,
       "version_minor": 0
      },
      "text/plain": [
       "merges.txt:   0%|          | 0.00/442k [00:00<?, ?B/s]"
      ]
     },
     "metadata": {},
     "output_type": "display_data"
    },
    {
     "data": {
      "application/vnd.jupyter.widget-view+json": {
       "model_id": "5bd6d7ebf9bf4248a2142c9c41770422",
       "version_major": 2,
       "version_minor": 0
      },
      "text/plain": [
       "tokenizer.json:   0%|          | 0.00/2.06M [00:00<?, ?B/s]"
      ]
     },
     "metadata": {},
     "output_type": "display_data"
    },
    {
     "data": {
      "application/vnd.jupyter.widget-view+json": {
       "model_id": "e5ecbcfa35bd4d2eb5110edd231f3c51",
       "version_major": 2,
       "version_minor": 0
      },
      "text/plain": [
       "added_tokens.json:   0%|          | 0.00/51.0 [00:00<?, ?B/s]"
      ]
     },
     "metadata": {},
     "output_type": "display_data"
    },
    {
     "data": {
      "application/vnd.jupyter.widget-view+json": {
       "model_id": "aea3bbe27d42480ab858df3000bd6b58",
       "version_major": 2,
       "version_minor": 0
      },
      "text/plain": [
       "special_tokens_map.json:   0%|          | 0.00/1.44k [00:00<?, ?B/s]"
      ]
     },
     "metadata": {},
     "output_type": "display_data"
    }
   ],
   "source": [
    "models = []\n",
    "tasks = []\n",
    "from_langs = []\n",
    "to_langs = []\n",
    "successes = []\n",
    "valids = []\n",
    "bleus = []\n",
    "\n",
    "if os.path.exists(os.path.join(RESULTS_FOLDER, f\"metrics.csv\")):\n",
    "    metrics = pd.read_csv(os.path.join(RESULTS_FOLDER, f\"metrics.csv\"))\n",
    "else:\n",
    "    metrics = pd.DataFrame(\n",
    "        {\n",
    "            \"model\": models,\n",
    "            \"task\": tasks,\n",
    "            \"from_lang\": from_langs,\n",
    "            \"to_lang\": to_langs,\n",
    "            \"success\": successes,\n",
    "            \"valid\": valids,\n",
    "            \"bleu\": bleus,\n",
    "        }\n",
    "    )\n",
    "\n",
    "for line in lines:\n",
    "    valid = 0\n",
    "    if \"successful\" in line:\n",
    "        valid = 1\n",
    "    line = line.strip()\n",
    "    line = [x.strip() for x in line.split(\":\")][3]\n",
    "    line = line.split(\".\")[0]\n",
    "    line = line.split(\"-\")\n",
    "    m = line[0]\n",
    "    t = line[1]\n",
    "    fl = line[2]\n",
    "    tl = line[3]\n",
    "    if check_row_exists(metrics, m, t, fl, tl):\n",
    "        continue\n",
    "    models.append(m)\n",
    "    tasks.append(t)\n",
    "    from_langs.append(fl)\n",
    "    to_langs.append(tl)\n",
    "    valids.append(valid)\n",
    "    tokenizer = AutoTokenizer.from_pretrained(\n",
    "        HUGGINGFACE_TAGS[m], token=HF_TOKEN, trust_remote_code=True\n",
    "    )\n",
    "    ref_code = REFERENCE_CODE[tl.upper()][t].strip()\n",
    "    gen_code = (\n",
    "        open(os.path.join(ACCEPTED_CODE_FOLDER, f\"{m}-{t}-{fl}-{tl}.{tl}\"), \"r\")\n",
    "        .read()\n",
    "        .strip()\n",
    "    )\n",
    "    bleu = BLEU.compute(\n",
    "        predictions=[gen_code], references=[[ref_code]], tokenizer=tokenizer.tokenize\n",
    "    )\n",
    "    bleus.append(bleu[\"bleu\"])\n",
    "    successes.append(1)\n",
    "\n",
    "for filename in os.listdir(REJECTED_CODE_FOLDER):\n",
    "    if filename.startswith(\".\"):\n",
    "        continue\n",
    "    filename = filename.split(\".\")[0]\n",
    "    filename = filename.split(\"-\")\n",
    "    m = filename[0]\n",
    "    t = filename[1]\n",
    "    fl = filename[2]\n",
    "    tl = filename[3]\n",
    "    if check_row_exists(metrics, m, t, fl, tl):\n",
    "        continue\n",
    "    models.append(m)\n",
    "    tasks.append(t)\n",
    "    from_langs.append(fl)\n",
    "    to_langs.append(tl)\n",
    "    successes.append(0)\n",
    "    valids.append(0)\n",
    "    bleus.append(0)\n",
    "\n",
    "metrics = pd.concat(\n",
    "    [\n",
    "        metrics,\n",
    "        pd.DataFrame(\n",
    "            {\n",
    "                \"model\": models,\n",
    "                \"task\": tasks,\n",
    "                \"from_lang\": from_langs,\n",
    "                \"to_lang\": to_langs,\n",
    "                \"success\": successes,\n",
    "                \"valid\": valids,\n",
    "                \"bleu\": bleus,\n",
    "            }\n",
    "        ),\n",
    "    ]\n",
    ")"
   ]
  },
  {
   "cell_type": "code",
   "execution_count": 7,
   "metadata": {},
   "outputs": [
    {
     "data": {
      "text/html": [
       "<div>\n",
       "<style scoped>\n",
       "    .dataframe tbody tr th:only-of-type {\n",
       "        vertical-align: middle;\n",
       "    }\n",
       "\n",
       "    .dataframe tbody tr th {\n",
       "        vertical-align: top;\n",
       "    }\n",
       "\n",
       "    .dataframe thead th {\n",
       "        text-align: right;\n",
       "    }\n",
       "</style>\n",
       "<table border=\"1\" class=\"dataframe\">\n",
       "  <thead>\n",
       "    <tr style=\"text-align: right;\">\n",
       "      <th></th>\n",
       "      <th>model</th>\n",
       "      <th>task</th>\n",
       "      <th>from_lang</th>\n",
       "      <th>to_lang</th>\n",
       "      <th>success</th>\n",
       "      <th>valid</th>\n",
       "      <th>bleu</th>\n",
       "    </tr>\n",
       "  </thead>\n",
       "  <tbody>\n",
       "    <tr>\n",
       "      <th>0</th>\n",
       "      <td>deepseekcoder7b</td>\n",
       "      <td>bit_ops</td>\n",
       "      <td>py</td>\n",
       "      <td>c</td>\n",
       "      <td>1.0</td>\n",
       "      <td>0.0</td>\n",
       "      <td>0.063062</td>\n",
       "    </tr>\n",
       "    <tr>\n",
       "      <th>1</th>\n",
       "      <td>codellama7b</td>\n",
       "      <td>int_factors</td>\n",
       "      <td>rs</td>\n",
       "      <td>c</td>\n",
       "      <td>1.0</td>\n",
       "      <td>1.0</td>\n",
       "      <td>0.003572</td>\n",
       "    </tr>\n",
       "    <tr>\n",
       "      <th>2</th>\n",
       "      <td>magicoder7b</td>\n",
       "      <td>int_factors</td>\n",
       "      <td>c</td>\n",
       "      <td>cpp</td>\n",
       "      <td>1.0</td>\n",
       "      <td>0.0</td>\n",
       "      <td>0.240128</td>\n",
       "    </tr>\n",
       "    <tr>\n",
       "      <th>3</th>\n",
       "      <td>codellama7b</td>\n",
       "      <td>int_cmp</td>\n",
       "      <td>cpp</td>\n",
       "      <td>rs</td>\n",
       "      <td>1.0</td>\n",
       "      <td>1.0</td>\n",
       "      <td>0.354400</td>\n",
       "    </tr>\n",
       "    <tr>\n",
       "      <th>4</th>\n",
       "      <td>codegeex4</td>\n",
       "      <td>bit_ops</td>\n",
       "      <td>py</td>\n",
       "      <td>js</td>\n",
       "      <td>1.0</td>\n",
       "      <td>1.0</td>\n",
       "      <td>0.000000</td>\n",
       "    </tr>\n",
       "  </tbody>\n",
       "</table>\n",
       "</div>"
      ],
      "text/plain": [
       "             model         task from_lang to_lang  success  valid      bleu\n",
       "0  deepseekcoder7b      bit_ops        py       c      1.0    0.0  0.063062\n",
       "1      codellama7b  int_factors        rs       c      1.0    1.0  0.003572\n",
       "2      magicoder7b  int_factors         c     cpp      1.0    0.0  0.240128\n",
       "3      codellama7b      int_cmp       cpp      rs      1.0    1.0  0.354400\n",
       "4        codegeex4      bit_ops        py      js      1.0    1.0  0.000000"
      ]
     },
     "execution_count": 7,
     "metadata": {},
     "output_type": "execute_result"
    }
   ],
   "source": [
    "metrics.head()"
   ]
  },
  {
   "cell_type": "code",
   "execution_count": 8,
   "metadata": {},
   "outputs": [
    {
     "name": "stdout",
     "output_type": "stream",
     "text": [
      "<class 'pandas.core.frame.DataFrame'>\n",
      "Index: 1849 entries, 0 to 167\n",
      "Data columns (total 7 columns):\n",
      " #   Column     Non-Null Count  Dtype  \n",
      "---  ------     --------------  -----  \n",
      " 0   model      1849 non-null   object \n",
      " 1   task       1849 non-null   object \n",
      " 2   from_lang  1849 non-null   object \n",
      " 3   to_lang    1849 non-null   object \n",
      " 4   success    1849 non-null   float64\n",
      " 5   valid      1849 non-null   float64\n",
      " 6   bleu       1849 non-null   float64\n",
      "dtypes: float64(3), object(4)\n",
      "memory usage: 115.6+ KB\n"
     ]
    }
   ],
   "source": [
    "metrics.info()\n",
    "metrics.to_csv(os.path.join(RESULTS_FOLDER, f\"metrics.csv\"), index=False)"
   ]
  },
  {
   "cell_type": "code",
   "execution_count": 9,
   "metadata": {},
   "outputs": [
    {
     "name": "stdout",
     "output_type": "stream",
     "text": [
      "              model  mean_valid  mean_bleu  mean_success\n",
      "0         codegeex4    0.869048   0.133468      1.000000\n",
      "1       codegemma7b    0.809524   0.195494      1.000000\n",
      "9       magicoder7b    0.784431   0.179164      0.994048\n",
      "4   deepseekcoder7b    0.721212   0.164208      0.982143\n",
      "6    dolphincoder7b    0.690909   0.133625      0.982143\n",
      "3          codeqwen    0.684524   0.155836      1.000000\n",
      "5   deepseekcoderv2    0.677419   0.165617      0.733728\n",
      "2       codellama7b    0.638037   0.180533      0.970238\n",
      "8     granitecode8b    0.541667   0.151745      1.000000\n",
      "7     granitecode3b    0.488095   0.152780      1.000000\n",
      "10       stablecode    0.113772   0.155536      0.994048\n"
     ]
    }
   ],
   "source": [
    "# per model metrics\n",
    "col = \"model\"\n",
    "m1_df = (\n",
    "    metrics[metrics[\"success\"] > 0]\n",
    "    .groupby(col)[[\"valid\", \"bleu\"]]\n",
    "    .mean()\n",
    "    .reset_index()\n",
    "    .rename(columns={\"valid\": \"mean_valid\", \"bleu\": \"mean_bleu\"})\n",
    ")\n",
    "m2_df = (\n",
    "    metrics.groupby(col)\n",
    "    .success.mean()\n",
    "    .reset_index()\n",
    "    .rename(columns={\"success\": \"mean_success\"})\n",
    ")\n",
    "m_df = m1_df.merge(m2_df, how=\"left\", on=col).sort_values(\"mean_valid\", ascending=False)\n",
    "print(m_df)\n",
    "m_df.to_csv(os.path.join(RESULTS_FOLDER, f\"{col}_metrics.csv\"), index=False)"
   ]
  },
  {
   "cell_type": "code",
   "execution_count": 10,
   "metadata": {},
   "outputs": [
    {
     "name": "stdout",
     "output_type": "stream",
     "text": [
      "          task  mean_valid  mean_bleu  mean_success\n",
      "2      int_cmp    0.759382   0.238881      0.978402\n",
      "1    int_arith    0.706150   0.150045      0.950216\n",
      "3  int_factors    0.544248   0.109373      0.978355\n",
      "0      bit_ops    0.539150   0.143372      0.967532\n"
     ]
    }
   ],
   "source": [
    "# per task metrics\n",
    "col = \"task\"\n",
    "m1_df = (\n",
    "    metrics[metrics[\"success\"] > 0]\n",
    "    .groupby(col)[[\"valid\", \"bleu\"]]\n",
    "    .mean()\n",
    "    .reset_index()\n",
    "    .rename(columns={\"valid\": \"mean_valid\", \"bleu\": \"mean_bleu\"})\n",
    ")\n",
    "m2_df = (\n",
    "    metrics.groupby(col)\n",
    "    .success.mean()\n",
    "    .reset_index()\n",
    "    .rename(columns={\"success\": \"mean_success\"})\n",
    ")\n",
    "m_df = m1_df.merge(m2_df, how=\"left\", on=col).sort_values(\"mean_valid\", ascending=False)\n",
    "print(m_df)\n",
    "m_df.to_csv(os.path.join(RESULTS_FOLDER, f\"{col}_metrics.csv\"), index=False)"
   ]
  },
  {
   "cell_type": "code",
   "execution_count": 11,
   "metadata": {},
   "outputs": [
    {
     "name": "stdout",
     "output_type": "stream",
     "text": [
      "  from_lang  mean_valid  mean_bleu  mean_success\n",
      "1       cpp    0.694981   0.178425      0.977358\n",
      "0         c    0.687747   0.174694      0.958333\n",
      "3      java    0.651341   0.150157      0.988636\n",
      "6        rs    0.647287   0.165705      0.977273\n",
      "2        go    0.646825   0.123982      0.954545\n",
      "4        js    0.606178   0.198089      0.981061\n",
      "5        py    0.522088   0.131348      0.943182\n"
     ]
    }
   ],
   "source": [
    "# per from_lang metrics\n",
    "col = \"from_lang\"\n",
    "m1_df = (\n",
    "    metrics[metrics[\"success\"] > 0]\n",
    "    .groupby(col)[[\"valid\", \"bleu\"]]\n",
    "    .mean()\n",
    "    .reset_index()\n",
    "    .rename(columns={\"valid\": \"mean_valid\", \"bleu\": \"mean_bleu\"})\n",
    ")\n",
    "m2_df = (\n",
    "    metrics.groupby(col)\n",
    "    .success.mean()\n",
    "    .reset_index()\n",
    "    .rename(columns={\"success\": \"mean_success\"})\n",
    ")\n",
    "m_df = m1_df.merge(m2_df, how=\"left\", on=col).sort_values(\"mean_valid\", ascending=False)\n",
    "print(m_df)\n",
    "m_df.to_csv(os.path.join(RESULTS_FOLDER, f\"{col}_metrics.csv\"), index=False)"
   ]
  },
  {
   "cell_type": "code",
   "execution_count": 12,
   "metadata": {},
   "outputs": [
    {
     "name": "stdout",
     "output_type": "stream",
     "text": [
      "  to_lang  mean_valid  mean_bleu  mean_success\n",
      "4      js    0.858824   0.091553      0.965909\n",
      "5      py    0.829457   0.068437      0.977273\n",
      "3    java    0.682353   0.198048      0.965909\n",
      "6      rs    0.664062   0.199355      0.969697\n",
      "1     cpp    0.498008   0.207890      0.950758\n",
      "0       c    0.494163   0.222929      0.969811\n",
      "2      go    0.432432   0.137427      0.981061\n"
     ]
    }
   ],
   "source": [
    "# per to_lang metrics\n",
    "col = \"to_lang\"\n",
    "m1_df = (\n",
    "    metrics[metrics[\"success\"] > 0]\n",
    "    .groupby(col)[[\"valid\", \"bleu\"]]\n",
    "    .mean()\n",
    "    .reset_index()\n",
    "    .rename(columns={\"valid\": \"mean_valid\", \"bleu\": \"mean_bleu\"})\n",
    ")\n",
    "m2_df = (\n",
    "    metrics.groupby(col)\n",
    "    .success.mean()\n",
    "    .reset_index()\n",
    "    .rename(columns={\"success\": \"mean_success\"})\n",
    ")\n",
    "m_df = m1_df.merge(m2_df, how=\"left\", on=col).sort_values(\"mean_valid\", ascending=False)\n",
    "print(m_df)\n",
    "m_df.to_csv(os.path.join(RESULTS_FOLDER, f\"{col}_metrics.csv\"), index=False)"
   ]
  }
 ],
 "metadata": {
  "kernelspec": {
   "display_name": "venv",
   "language": "python",
   "name": "python3"
  },
  "language_info": {
   "codemirror_mode": {
    "name": "ipython",
    "version": 3
   },
   "file_extension": ".py",
   "mimetype": "text/x-python",
   "name": "python",
   "nbconvert_exporter": "python",
   "pygments_lexer": "ipython3",
   "version": "3.12.5"
  }
 },
 "nbformat": 4,
 "nbformat_minor": 2
}
